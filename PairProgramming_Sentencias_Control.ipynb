{
 "cells": [
  {
   "cell_type": "markdown",
   "metadata": {},
   "source": [
    "**EJERCICIOS IF/ELSE**"
   ]
  },
  {
   "cell_type": "code",
   "execution_count": null,
   "metadata": {},
   "outputs": [],
   "source": [
    "# 1. Verificar si un número es positivo, negativo o cero\n",
    "# Descripción: Dado un número, verifica si es positivo, negativo o cero."
   ]
  },
  {
   "cell_type": "code",
   "execution_count": null,
   "metadata": {},
   "outputs": [],
   "source": [
    "# 2. Verificar si un número es par o impar\n",
    "# Descripción: Dado un número, verifica si es par o impar."
   ]
  },
  {
   "cell_type": "code",
   "execution_count": null,
   "metadata": {},
   "outputs": [],
   "source": [
    "# 3. Verificar si un estudiante aprobó o suspendió un examen\n",
    "# Descripción: Dada la calificación de un estudiante en un examen, verifica si aprobó o suspendió \n",
    "# (si la calificación es mayor o igual a 60 se considera aprobado)."
   ]
  },
  {
   "cell_type": "code",
   "execution_count": null,
   "metadata": {},
   "outputs": [],
   "source": [
    "# 4. Calcular el máximo entre dos números\n",
    "# Descripción: Dados dos números, encuentra el máximo entre ellos."
   ]
  },
  {
   "cell_type": "code",
   "execution_count": null,
   "metadata": {},
   "outputs": [],
   "source": [
    "# 5.Verificar si una letra es una vocal o una consonante\n",
    "# Descripción: Dada una letra, verifica si es una vocal o una consonante."
   ]
  },
  {
   "cell_type": "code",
   "execution_count": null,
   "metadata": {},
   "outputs": [],
   "source": [
    "# 6. Calcular el descuento en una compra según el monto total\n",
    "# Descripción: Dado el monto total de una compra, calcula el descuento aplicado según las siguientes condiciones: si el monto es mayor o igual a $100, aplica un descuento del 10%; de lo contrario, no aplica ningún descuento."
   ]
  },
  {
   "cell_type": "code",
   "execution_count": null,
   "metadata": {},
   "outputs": [],
   "source": [
    "# 7. Verificar si un año es bisiesto o no\n",
    "# Descripción: Dado un año, verifica si es bisiesto o no (un año es bisiesto si es divisible entre 4, \n",
    "# excepto aquellos divisibles entre 100 pero no entre 400)"
   ]
  },
  {
   "cell_type": "code",
   "execution_count": null,
   "metadata": {},
   "outputs": [],
   "source": [
    "# 8. Asignar una categoría a una edad\n",
    "# Descripción: Dada una edad, asigna una categoría según las siguientes condiciones: \n",
    "# si la edad es menor de 18, la categoría es \"Menor de edad\"; \n",
    "# si la edad está entre 18 y 64 (incluyendo ambos), la categoría es \"Adulto\"; \n",
    "# de lo contrario, la categoría es \"Adulto mayor\"."
   ]
  },
  {
   "cell_type": "code",
   "execution_count": null,
   "metadata": {},
   "outputs": [],
   "source": [
    "# 9. Verificar si tres números forman un triángulo rectángulo\n",
    "# Descripción: Dados tres números, verifica si forman un triángulo rectángulo (si se cumple el teorema de Pitágoras)."
   ]
  },
  {
   "cell_type": "code",
   "execution_count": null,
   "metadata": {},
   "outputs": [],
   "source": [
    "# 10. Asignar una calificación a una puntuación\n",
    "# Descripción: Dada una puntuación, asigna una calificación según las siguientes condiciones: \n",
    "\n",
    "# si la puntuación es mayor o igual a 90, la calificación es \"A\"; \n",
    "# si es mayor o igual a 80, la calificación es \"B\"; \n",
    "# si es mayor o igual a 70, la calificación es \"C\"; \n",
    "# si es mayor o igual a 60, la calificación es \"D\"; \n",
    "# de lo contrario, la calificación es \"F\"."
   ]
  },
  {
   "cell_type": "code",
   "execution_count": null,
   "metadata": {},
   "outputs": [],
   "source": [
    "# 11. Calcular el índice de masa corporal (IMC) y categorizarlo\n",
    "# Descripción: Dados el peso (en kg) y la altura (en metros) de una persona, calcula su IMC y categorízalo \n",
    "# según las siguientes condiciones: \n",
    "# si el IMC es menor a 18.5, es \"Bajo peso\"; \n",
    "# si está entre 18.5 y 24.9 (inclusive), es \"Peso normal\"; \n",
    "# si está entre 25 y 29.9 (inclusive), es \"Sobrepeso\"; \n",
    "# de lo contrario, es \"Obesidad\"."
   ]
  },
  {
   "cell_type": "code",
   "execution_count": null,
   "metadata": {},
   "outputs": [],
   "source": [
    "# 12. Calcular el mayor de tres números\n",
    "# Descripción: Dados tres números, encuentra el mayor entre ellos."
   ]
  },
  {
   "cell_type": "code",
   "execution_count": null,
   "metadata": {},
   "outputs": [],
   "source": [
    "# 13. BONUS sentencias de control: Verificar la validez de una fecha\n",
    "# Descripción: Dados el día, el mes y el año de una fecha, verifica si la fecha es válida."
   ]
  },
  {
   "cell_type": "markdown",
   "metadata": {},
   "source": [
    "**EJERCICIOS BUCLE \"WHILE\"**"
   ]
  },
  {
   "cell_type": "code",
   "execution_count": null,
   "metadata": {},
   "outputs": [],
   "source": [
    "# 1. Calcular la suma de los primeros 10 números naturales utilizando un bucle while\n",
    "# Descripción: Utiliza un bucle while para calcular la suma de los primeros 10 números naturales (1 + 2 + 3 + ... + 10).\n"
   ]
  },
  {
   "cell_type": "code",
   "execution_count": null,
   "metadata": {},
   "outputs": [],
   "source": [
    "# 2. Juego de adivinanza utilizando un bucle while\n",
    "# Descripción: Crea un juego de adivinanza en el que el jugador tiene que adivinar un número secreto \n",
    "# (tendrá que ser entre el 0 y el 10). \n",
    "# Utiliza un bucle while para permitir múltiples intentos hasta que el jugador adivine correctamente.2.\n"
   ]
  }
 ],
 "metadata": {
  "language_info": {
   "name": "python"
  }
 },
 "nbformat": 4,
 "nbformat_minor": 2
}
