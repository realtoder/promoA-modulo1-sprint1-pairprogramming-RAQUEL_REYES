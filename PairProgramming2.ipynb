{
 "cells": [
  {
   "cell_type": "code",
   "execution_count": 1,
   "metadata": {},
   "outputs": [
    {
     "name": "stdout",
     "output_type": "stream",
     "text": [
      "[2, 4, 6, 8, 2, 4, 6, 8]\n",
      "[2, 4, 6, 8, 2, 4, 6, 8]\n"
     ]
    }
   ],
   "source": [
    "1. #Duplicar elementos de una lista\n",
    "# Descripción: Dada una lista de números, duplica cada elemento en la lista. Ejemplo:\n",
    "# dada la siguiente lista el output esperado es:\n",
    "# lista = [2, 4, 6, 8]\n",
    "# [2, 4, 6, 8, 2, 4, 6, 8]\n",
    "\n",
    "# Se puede hacer de dos maneras: con el operador de suma\n",
    "lista = [2, 4, 6, 8]\n",
    "suma_listas = lista + lista\n",
    "print(suma_listas)\n",
    "\n",
    "# O con el de multiplicación:\n",
    "suma_listas2 = lista * 2\n",
    "print(suma_listas2)"
   ]
  },
  {
   "cell_type": "code",
   "execution_count": 2,
   "metadata": {},
   "outputs": [
    {
     "name": "stdout",
     "output_type": "stream",
     "text": [
      "[1, 2, 3, 4, 5, 6]\n"
     ]
    }
   ],
   "source": [
    "2. # Combinar dos listas\n",
    "# Descripción: Dadas dos listas, crea una nueva lista que contenga todos los elementos de ambas listas. Ejemplo:\n",
    "# dadas las siguientes listas el output esperado es:\n",
    "# lista1 = [1, 2, 3]\n",
    "# lista2 = [4, 5, 6]\n",
    "# [1, 2, 3, 4, 5, 6]\n",
    "\n",
    "lista1 = [1, 2, 3]\n",
    "lista2 = [4, 5, 6]\n",
    "lista3 = lista1 + lista2\n",
    "print(lista3)"
   ]
  },
  {
   "cell_type": "code",
   "execution_count": 3,
   "metadata": {},
   "outputs": [
    {
     "name": "stdout",
     "output_type": "stream",
     "text": [
      "[4, 5, 6]\n",
      "15\n"
     ]
    }
   ],
   "source": [
    "# 3. Calcular la suma de una lista de números\n",
    "# Descripción: Dada una lista de números, calcula la suma de todos los elementos.\n",
    "\n",
    "print(lista2)\n",
    "suma_lista2 = sum(lista2)\n",
    "print(suma_lista2)"
   ]
  },
  {
   "cell_type": "code",
   "execution_count": 4,
   "metadata": {},
   "outputs": [
    {
     "name": "stdout",
     "output_type": "stream",
     "text": [
      "[1, 2, 3]\n"
     ]
    },
    {
     "data": {
      "text/plain": [
       "3"
      ]
     },
     "execution_count": 4,
     "metadata": {},
     "output_type": "execute_result"
    }
   ],
   "source": [
    "# 4. Encontrar el valor máximo en una lista\n",
    "# Descripción: Dada una lista de números, encuentra el valor máximo.\n",
    "\n",
    "print(lista1)\n",
    "max(lista1)"
   ]
  },
  {
   "cell_type": "code",
   "execution_count": 5,
   "metadata": {},
   "outputs": [
    {
     "name": "stdout",
     "output_type": "stream",
     "text": [
      "[1, 2, 3, 4, 5, 6]\n"
     ]
    },
    {
     "data": {
      "text/plain": [
       "6"
      ]
     },
     "execution_count": 5,
     "metadata": {},
     "output_type": "execute_result"
    }
   ],
   "source": [
    "# 5. Calcular la longitud de una lista\n",
    "# Descripción: Dada una lista, calcula la cantidad de elementos que contiene.\n",
    "\n",
    "print(lista3)\n",
    "len(lista3)"
   ]
  },
  {
   "cell_type": "code",
   "execution_count": 6,
   "metadata": {},
   "outputs": [
    {
     "name": "stdout",
     "output_type": "stream",
     "text": [
      "[1, 2, 3]\n"
     ]
    },
    {
     "data": {
      "text/plain": [
       "1"
      ]
     },
     "execution_count": 6,
     "metadata": {},
     "output_type": "execute_result"
    }
   ],
   "source": [
    "# 6. Encontrar el índice de un elemento en una lista\n",
    "# Descripción: Dada una lista y un valor objetivo, encuentra el índice del primer elemento que coincida con el valor objetivo.\n",
    "\n",
    "print(lista1)\n",
    "lista1.index(2)"
   ]
  },
  {
   "cell_type": "code",
   "execution_count": 7,
   "metadata": {},
   "outputs": [
    {
     "data": {
      "text/plain": [
       "2"
      ]
     },
     "execution_count": 7,
     "metadata": {},
     "output_type": "execute_result"
    }
   ],
   "source": [
    "# 7. Contar ocurrencias de un elemento en una lista\n",
    "# Descripción: Dada una lista y un valor objetivo, cuenta cuántas veces aparece el valor objetivo en la lista.\n",
    "\n",
    "lista4 = [1, 5, 9, 13, 48, 34, 2, 48, 27]\n",
    "lista4.count(48)"
   ]
  },
  {
   "cell_type": "code",
   "execution_count": 8,
   "metadata": {},
   "outputs": [
    {
     "name": "stdout",
     "output_type": "stream",
     "text": [
      "[1, 5, 9, 13, 48, 34, 2, 48, 27]\n",
      "[9, 13, 48]\n"
     ]
    }
   ],
   "source": [
    "# 8. Obtener una sublista de una lista\n",
    "# Descripción: Dada una lista, crea una nueva lista que contenga los elementos desde el índice 2 hasta el índice 5 (sin incluirlo).\n",
    "\n",
    "# Utilizamos el método slicing\n",
    "print(lista4)\n",
    "sublista4 = lista4[2:5]\n",
    "print(sublista4)"
   ]
  },
  {
   "cell_type": "code",
   "execution_count": 9,
   "metadata": {},
   "outputs": [
    {
     "name": "stdout",
     "output_type": "stream",
     "text": [
      "[1, 5, 9, 13, 48, 34, 2, 48, 27]\n"
     ]
    },
    {
     "data": {
      "text/plain": [
       "27"
      ]
     },
     "execution_count": 9,
     "metadata": {},
     "output_type": "execute_result"
    }
   ],
   "source": [
    "# 9. Obtener el último elemento de una lista\n",
    "# Descripción: Dada una lista, obtén el último elemento.\n",
    "\n",
    "print(lista4)\n",
    "lista4[-1]"
   ]
  },
  {
   "cell_type": "code",
   "execution_count": 10,
   "metadata": {},
   "outputs": [],
   "source": [
    "# 10. Es el mismo que el anterior"
   ]
  },
  {
   "cell_type": "code",
   "execution_count": 11,
   "metadata": {},
   "outputs": [
    {
     "name": "stdout",
     "output_type": "stream",
     "text": [
      "[1, 5, 9, 13, 48, 34, 2, 48, 27]\n"
     ]
    },
    {
     "data": {
      "text/plain": [
       "[5, 9]"
      ]
     },
     "execution_count": 11,
     "metadata": {},
     "output_type": "execute_result"
    }
   ],
   "source": [
    "# 11. Descripción: Dada una lista, obtén una sublista que contenga los elementos desde el índice 1 hasta el índice 3 (sin incluirlo).\n",
    "\n",
    "print(lista4)\n",
    "lista4[1:3]"
   ]
  },
  {
   "cell_type": "code",
   "execution_count": 12,
   "metadata": {},
   "outputs": [
    {
     "name": "stdout",
     "output_type": "stream",
     "text": [
      "[1, 5, 9, 13, 48, 34, 2, 48, 27]\n"
     ]
    }
   ],
   "source": [
    "# 12. Reemplazar un elemento en una lista\n",
    "# Descripción: Dada una lista, reemplaza el segundo elemento con un nuevo valor.\n",
    "\n",
    "# reemplazamos 5 por 20\n",
    "print(lista4)\n",
    "lista4[1] = 20\n"
   ]
  },
  {
   "cell_type": "code",
   "execution_count": 13,
   "metadata": {},
   "outputs": [
    {
     "name": "stdout",
     "output_type": "stream",
     "text": [
      "[1, 20, 9, 13, 48, 34, 2, 48, 27]\n"
     ]
    }
   ],
   "source": [
    "print(lista4)"
   ]
  },
  {
   "cell_type": "code",
   "execution_count": 14,
   "metadata": {},
   "outputs": [
    {
     "name": "stdout",
     "output_type": "stream",
     "text": [
      "[1, 20, 9, 13, 48, 34, 2, 48, 27]\n"
     ]
    }
   ],
   "source": [
    "# 13. Obtener una lista inversa\n",
    "# Descripción: Dada una lista, obtén una nueva lista que contenga los elementos en orden inverso.\n",
    "\n",
    "# creamos primero una copia de la lista4 y la llamamos lista5\n",
    "lista5 = lista4.copy()\n",
    "print(lista5)\n",
    "\n"
   ]
  },
  {
   "cell_type": "code",
   "execution_count": 15,
   "metadata": {},
   "outputs": [
    {
     "name": "stdout",
     "output_type": "stream",
     "text": [
      "[27, 48, 2, 34, 48, 13, 9, 20, 1]\n"
     ]
    }
   ],
   "source": [
    "lista5.reverse()\n",
    "print(lista5)"
   ]
  },
  {
   "cell_type": "code",
   "execution_count": 16,
   "metadata": {},
   "outputs": [
    {
     "name": "stdout",
     "output_type": "stream",
     "text": [
      "[1, 2, 9, 13, 20, 27, 34, 48, 48]\n"
     ]
    }
   ],
   "source": [
    "# 14. Ordenar una lista en orden ascendente\n",
    "# Descripción: Dada una lista de números, ordénala en orden ascendente.\n",
    "\n",
    "lista5.sort()\n",
    "print(lista5)"
   ]
  },
  {
   "cell_type": "code",
   "execution_count": 17,
   "metadata": {},
   "outputs": [
    {
     "name": "stdout",
     "output_type": "stream",
     "text": [
      "[2, 4, 6, 8, 10]\n"
     ]
    }
   ],
   "source": [
    "# 15. Obtener elementos pares de una lista\n",
    "# Descripción: Dada una lista, obtén una nueva lista que contenga solo los elementos en posiciones pares.\n",
    "\n",
    "lista6 = [1, 2, 3, 4, 5, 6, 7, 8, 9, 10]\n",
    "sublista6 = lista6[1::2]\n",
    "print(sublista6)"
   ]
  },
  {
   "cell_type": "code",
   "execution_count": 18,
   "metadata": {},
   "outputs": [
    {
     "name": "stdout",
     "output_type": "stream",
     "text": [
      "[1, 2, 3, 4, 5, 6, 7, 8, 9, 10]\n",
      "[1, 4, 7, 10]\n"
     ]
    }
   ],
   "source": [
    "# 16. Obtener una sublista saltando elementos\n",
    "# Descripción: Dada una lista, obtén una sublista que contenga los elementos saltando de 3 en 3.\n",
    "\n",
    "print(lista6)\n",
    "nueva_sublista6 = lista6[0::3]\n",
    "print(nueva_sublista6)"
   ]
  },
  {
   "cell_type": "code",
   "execution_count": 19,
   "metadata": {},
   "outputs": [
    {
     "name": "stdout",
     "output_type": "stream",
     "text": [
      "[4, 19, 32, 37, 47, 65, 83]\n"
     ]
    },
    {
     "data": {
      "text/plain": [
       "65"
      ]
     },
     "execution_count": 19,
     "metadata": {},
     "output_type": "execute_result"
    }
   ],
   "source": [
    "# 17. Encontrar el segundo valor máximo en una lista\n",
    "# Descripción: Dada una lista de números, encuentra el segundo valor máximo\n",
    "\n",
    "lista7 = [4, 37, 65, 32, 19, 83, 47]\n",
    "lista7_sorted = sorted(lista7)\n",
    "print(lista7_sorted)\n",
    "lista7_sorted[-2]\n"
   ]
  },
  {
   "cell_type": "code",
   "execution_count": 20,
   "metadata": {},
   "outputs": [],
   "source": [
    "# 18. Teórico. Debereis contestar la pregunta en una celda de markdown.\n",
    "# Descripción: ¿Qué diferencia existe entre el .sort() y el sorted()"
   ]
  },
  {
   "cell_type": "markdown",
   "metadata": {},
   "source": [
    "\"Sort\" ordena una lista sobreescribiéndola, mientras que \"sorted\" no sobreescribe la lista original."
   ]
  },
  {
   "cell_type": "code",
   "execution_count": 21,
   "metadata": {},
   "outputs": [],
   "source": [
    "# 19. Agregar elementos a una lista utilizando append y extend\n",
    "# Descripción: Dada una lista inicial, agrega nuevos elementos utilizando tanto append como extend \n",
    "# y observa las diferencias en el resultado final. El elemento que deberéis usar para añadir a la lista original tiene que ser una lista."
   ]
  },
  {
   "cell_type": "code",
   "execution_count": 22,
   "metadata": {},
   "outputs": [
    {
     "name": "stdout",
     "output_type": "stream",
     "text": [
      "[6, 9, 10, 12, [44, 5, 68, 14]]\n"
     ]
    }
   ],
   "source": [
    "# el método .append nos devuelve una lista de listas\n",
    "lista8 = [6, 9, 10, 12]\n",
    "lista9 = [44, 5, 68, 14]\n",
    "\n",
    "lista8.append(lista9)\n",
    "print(lista8)\n"
   ]
  },
  {
   "cell_type": "code",
   "execution_count": 23,
   "metadata": {},
   "outputs": [
    {
     "name": "stdout",
     "output_type": "stream",
     "text": [
      "[1, 3, 8, 10, 22, 7, 11, 73]\n"
     ]
    }
   ],
   "source": [
    "lista10 = [1, 3, 8, 10]\n",
    "lista11 = [22, 7, 11, 73]\n",
    "\n",
    "lista10.extend(lista11)\n",
    "print(lista10)"
   ]
  },
  {
   "cell_type": "code",
   "execution_count": 2,
   "metadata": {},
   "outputs": [
    {
     "name": "stdout",
     "output_type": "stream",
     "text": [
      "La lista de colores es ['rojo', 'azul', 'verde', 'amarillo']\n",
      "El color que vamos a añadir es el  rosa\n",
      "['rojo', 'azul', 'verde', 'rosa', 'amarillo']\n"
     ]
    }
   ],
   "source": [
    "# 20. Insertar un elemento en una posición específica\n",
    "# Descripción: Dada una lista, inserta un nuevo elemento en una posición específica determinada por el usuario \n",
    "# (debereis usar la función input para preguntar al usuario en que posición quiere insertar el elemento).\n",
    "\n",
    "lista_colores = ['rojo', 'azul', 'verde', 'amarillo']\n",
    "print('La lista de colores es' , lista_colores)\n",
    "nuevo_color = 'rosa'\n",
    "print('El color que vamos a añadir es el ', nuevo_color)\n",
    "ubicacion = int(input(\"Elige el índice en el que quieres insertar el nuevo color\"))\n",
    "\n",
    "lista_colores.insert(ubicacion, nuevo_color)\n",
    "print(lista_colores)"
   ]
  },
  {
   "cell_type": "code",
   "execution_count": null,
   "metadata": {},
   "outputs": [],
   "source": [
    "# 21. Verificar si un elemento está presente en una lista\n",
    "# Descripción: Dada una lista, verifica si un elemento específico está presente en ella. \n",
    "# Igual que el caso anterior, debereis preguntar al usuario que elemento quiere buscar en la lista. El resultado deberá ser True o False."
   ]
  },
  {
   "cell_type": "code",
   "execution_count": null,
   "metadata": {},
   "outputs": [
    {
     "data": {
      "text/plain": [
       "True"
      ]
     },
     "execution_count": 36,
     "metadata": {},
     "output_type": "execute_result"
    }
   ],
   "source": [
    "pregunta = input('¿Qué color deseas verificar?')\n",
    "pregunta in lista_colores"
   ]
  },
  {
   "cell_type": "code",
   "execution_count": null,
   "metadata": {},
   "outputs": [],
   "source": [
    "# 22. Manipulación de una lista utilizando remove(), pop() y clear()\n",
    "# Descripción: Crea una lista inicial, realiza operaciones de eliminación y limpieza utilizando \n",
    "# los métodos remove(), pop() y clear(), y observa cómo afectan a la lista."
   ]
  },
  {
   "cell_type": "code",
   "execution_count": 31,
   "metadata": {},
   "outputs": [],
   "source": [
    "mascotas = ['perro', 'gato', 'conejo', 'hurón']"
   ]
  },
  {
   "cell_type": "code",
   "execution_count": 32,
   "metadata": {},
   "outputs": [
    {
     "name": "stdout",
     "output_type": "stream",
     "text": [
      "['perro', 'gato', 'hurón']\n"
     ]
    }
   ],
   "source": [
    "# método .remove()\n",
    "mascotas.remove('conejo')\n",
    "print(mascotas)\n"
   ]
  },
  {
   "cell_type": "code",
   "execution_count": 33,
   "metadata": {},
   "outputs": [
    {
     "name": "stdout",
     "output_type": "stream",
     "text": [
      "['perro', 'hurón']\n"
     ]
    }
   ],
   "source": [
    "# método .pop()\n",
    "mascotas.pop(1)\n",
    "# eliminamos el índice 1, es decir, 'gato'\n",
    "print(mascotas)"
   ]
  },
  {
   "cell_type": "code",
   "execution_count": 34,
   "metadata": {},
   "outputs": [
    {
     "name": "stdout",
     "output_type": "stream",
     "text": [
      "[]\n"
     ]
    }
   ],
   "source": [
    "mascotas.clear()\n",
    "print(mascotas)\n",
    "# la lista queda vacía"
   ]
  },
  {
   "cell_type": "markdown",
   "metadata": {},
   "source": [
    "**EJERCICIOS DE TUPLAS**"
   ]
  },
  {
   "cell_type": "markdown",
   "metadata": {},
   "source": [
    "\n",
    "\n",
    "\n"
   ]
  },
  {
   "cell_type": "code",
   "execution_count": 46,
   "metadata": {},
   "outputs": [
    {
     "data": {
      "text/plain": [
       "'blanco'"
      ]
     },
     "execution_count": 46,
     "metadata": {},
     "output_type": "execute_result"
    }
   ],
   "source": [
    "# 1. Acceder al primer elemento de una tupla\n",
    "# Descripción: Dada una tupla, obtén el primer elemento.\n",
    "\n",
    "tupla_colores1 = ('blanco', 'naranja', 'morado', 'negro')\n",
    "tupla_colores1[0]"
   ]
  },
  {
   "cell_type": "code",
   "execution_count": 45,
   "metadata": {},
   "outputs": [
    {
     "data": {
      "text/plain": [
       "'negro'"
      ]
     },
     "execution_count": 45,
     "metadata": {},
     "output_type": "execute_result"
    }
   ],
   "source": [
    "#  2. Acceder al último elemento de una tupla\n",
    "# Descripción: Dada una tupla, obtén el último elemento.\n",
    "\n",
    "tupla_colores1[-1]"
   ]
  },
  {
   "cell_type": "code",
   "execution_count": 47,
   "metadata": {},
   "outputs": [
    {
     "data": {
      "text/plain": [
       "4"
      ]
     },
     "execution_count": 47,
     "metadata": {},
     "output_type": "execute_result"
    }
   ],
   "source": [
    "# 3. Obtener la longitud de una tupla\n",
    "# Descripción: Dada una tupla, obtén la cantidad de elementos que contiene.\n",
    "\n",
    "len(tupla_colores1)"
   ]
  },
  {
   "cell_type": "code",
   "execution_count": 48,
   "metadata": {},
   "outputs": [
    {
     "name": "stdout",
     "output_type": "stream",
     "text": [
      "('blanco', 'naranja', 'morado', 'negro', 'rojo', 'verde')\n"
     ]
    }
   ],
   "source": [
    "# 4. Concatenar dos tuplas\n",
    "# Descripción: Dadas dos tuplas, crea una nueva tupla que contenga todos los elementos de ambas tuplas.\n",
    "\n",
    "tupla_colores2 = ('rojo', 'verde')\n",
    "tupla_colores3 = tupla_colores1 + tupla_colores2\n",
    "print(tupla_colores3)"
   ]
  },
  {
   "cell_type": "code",
   "execution_count": 49,
   "metadata": {},
   "outputs": [
    {
     "data": {
      "text/plain": [
       "1"
      ]
     },
     "execution_count": 49,
     "metadata": {},
     "output_type": "execute_result"
    }
   ],
   "source": [
    "# 5. Encontrar el índice de un elemento en una tupla\n",
    "# Descripción: Dada una tupla y un valor objetivo, encuentra el índice del primer elemento que coincida con el valor objetivo.\n",
    "\n",
    "tupla_colores1.index('naranja')"
   ]
  },
  {
   "cell_type": "code",
   "execution_count": 50,
   "metadata": {},
   "outputs": [
    {
     "data": {
      "text/plain": [
       "0"
      ]
     },
     "execution_count": 50,
     "metadata": {},
     "output_type": "execute_result"
    }
   ],
   "source": [
    "# 6. Contar ocurrencias de un elemento en una tupla\n",
    "# Descripción: Dada una tupla y un valor objetivo, cuenta cuántas veces aparece el valor objetivo en la tupla.\n",
    "\n",
    "tupla_colores1.count('verde')"
   ]
  },
  {
   "cell_type": "code",
   "execution_count": 53,
   "metadata": {},
   "outputs": [
    {
     "name": "stdout",
     "output_type": "stream",
     "text": [
      "('blanco', 'naranja', 'morado', 'negro', 'rojo', 'verde')\n",
      "('naranja', 'morado')\n"
     ]
    }
   ],
   "source": [
    "# 7. Obtener una subtuple de una tupla\n",
    "# Descripción: Dada una tupla, crea una nueva tupla que contenga los elementos desde el índice 1 hasta el índice 3 (sin incluirlo).\n",
    "\n",
    "print(tupla_colores3)\n",
    "subtupla = tupla_colores3[1:3]\n",
    "print(subtupla)"
   ]
  },
  {
   "cell_type": "code",
   "execution_count": 56,
   "metadata": {},
   "outputs": [
    {
     "name": "stdout",
     "output_type": "stream",
     "text": [
      "('negro', 'morado', 'naranja', 'blanco')\n"
     ]
    }
   ],
   "source": [
    "# 8. Invertir una tupla\n",
    "# Descripción: Dada una tupla, inviértela en orden.\n",
    "\n",
    "tupla_invertida = tupla_colores[::-1]\n",
    "print(tupla_invertida)"
   ]
  }
 ],
 "metadata": {
  "kernelspec": {
   "display_name": "base",
   "language": "python",
   "name": "python3"
  },
  "language_info": {
   "codemirror_mode": {
    "name": "ipython",
    "version": 3
   },
   "file_extension": ".py",
   "mimetype": "text/x-python",
   "name": "python",
   "nbconvert_exporter": "python",
   "pygments_lexer": "ipython3",
   "version": "3.9.7"
  }
 },
 "nbformat": 4,
 "nbformat_minor": 2
}
