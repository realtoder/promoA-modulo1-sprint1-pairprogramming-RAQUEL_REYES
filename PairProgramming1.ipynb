{
 "cells": [
  {
   "cell_type": "code",
   "execution_count": null,
   "metadata": {},
   "outputs": [],
   "source": []
  },
  {
   "cell_type": "markdown",
   "metadata": {},
   "source": [
    "Antes de empezar\n",
    "Crear un repositorio para el pair programming en la organización de Adalab.\n",
    "El nombre del repositorio debe tener la siguiente estructura promoX-modulo1-sprint1-pairprogramming-NOMBRES_INTEGRANTES\n",
    "\n",
    "En la lección hemos hecho una primera aproximación a Python,hemos aprendido que tipos de datos tenemos, como podemos almacenar información en variables y como realizar ciertas operaciones con ellas.\n",
    "Además hemos aprendido que las variales de tipo string o de texto tienen muchos métodos propios que nos permiten modificarlos.\n",
    "Los objetivos del pair programming de hoy son:\n",
    "\n",
    "Cread tres variables numéricas de tipo integer (entero), llamadas de la siguiente forma:\n",
    "numero1\n",
    "numero2\n",
    "numero3\n",
    "\n",
    "Utilizando los operadores lógicos:\n",
    "En vuestro caso, es el numero1 mayor que el numero2\n",
    "Es el numero1 menor que el numero2 pero mayor que el numero3\n",
    "Es el numero3 igual que el numero2\n",
    "Es el numero2 distinto que el numero1\n",
    "\n",
    "\n",
    "Cread dos variables numéricas de tipo float (decimal) con dos decimales, llamdas de la siguiente forma:\n",
    "altura1\n",
    "altura2\n",
    "\n",
    "Utilizando los operadores matemáticos aprendidos en la lección:\n",
    "Cuál es la suma de las dos alturas\n",
    "Cuál es la diferencia entre las alturas\n",
    "Cuál es el resto de la división de las dos alturas\n",
    "Cuál es resultado de la división de las dos alturas, redondead el resultado a un decimal.\n",
    "\n",
    "Escribid un programa usando la función input() que le pregunte al usuario su nombre y apellidos. Una vez que tengamos el nombre del usuario:\n",
    "Printead su nombre y apellidos todo en mayúsculas\n",
    "Printead su nombre y apellidos todo en minúsculas\n",
    "Printead su nombre y apellidos con la primera letra del nombre y los apellidos en mayúscula y el resto en minúscula.\n",
    "Printeas solo la primera letra del nombre en mayúscula.\n",
    "\n",
    "Escribid un programa usando la función input() que:\n",
    "Le pregunte al usuario por una frase, almacenad este resultado en una variable.\n",
    "Le pregunte al usuario por una vocal, almacenad este resultado en una variable.\n",
    "Printead la misma frase pero con la vocal introducida en mayúsulas.\n",
    "\n",
    "Escribid un programa usando la función input() que:\n",
    "Le pregunte al usuario por la lista de la compra, separando cada elemento por comas.\n",
    "Devolved la lista de compra donde veamos cada elemento en una línea.\n",
    "💡Pista\n",
    "Para indicar salto de línea usaremos \"\\n\".\n",
    "Deberéis usar el método join de los strings\n",
    "📌 Output deseado\n",
    "resultado_del_input = [\"peras\", \"manzanas\", \"naranjas\"]\n",
    "\n",
    "# output después del ejercicio\n",
    "\"peras\"\n",
    "\"manzanas\"\n",
    "\"naranjas\""
   ]
  },
  {
   "cell_type": "code",
   "execution_count": 2,
   "metadata": {},
   "outputs": [],
   "source": [
    "# Cread tres variables numéricas de tipo integer (entero), llamadas de la siguiente forma:\n",
    "\n",
    "numero1 = 5\n",
    "numero2 = 9\n",
    "numero3 = 6"
   ]
  },
  {
   "cell_type": "code",
   "execution_count": 3,
   "metadata": {},
   "outputs": [
    {
     "data": {
      "text/plain": [
       "False"
      ]
     },
     "execution_count": 3,
     "metadata": {},
     "output_type": "execute_result"
    }
   ],
   "source": [
    "# En vuestro caso, es el numero1 mayor que el numero2\n",
    "\n",
    "numero1 > numero2\n"
   ]
  },
  {
   "cell_type": "code",
   "execution_count": 4,
   "metadata": {},
   "outputs": [
    {
     "data": {
      "text/plain": [
       "False"
      ]
     },
     "execution_count": 4,
     "metadata": {},
     "output_type": "execute_result"
    }
   ],
   "source": [
    "# Es el numero1 menor que el numero2 pero mayor que el numero3\n",
    "\n",
    "numero2 > numero1 > numero3"
   ]
  },
  {
   "cell_type": "code",
   "execution_count": 5,
   "metadata": {},
   "outputs": [
    {
     "data": {
      "text/plain": [
       "False"
      ]
     },
     "execution_count": 5,
     "metadata": {},
     "output_type": "execute_result"
    }
   ],
   "source": [
    "# Es el numero3 igual que el numero2\n",
    "\n",
    "numero3 == numero2"
   ]
  },
  {
   "cell_type": "code",
   "execution_count": 6,
   "metadata": {},
   "outputs": [
    {
     "data": {
      "text/plain": [
       "True"
      ]
     },
     "execution_count": 6,
     "metadata": {},
     "output_type": "execute_result"
    }
   ],
   "source": [
    "# Es el numero2 distinto que el numero1\n",
    "\n",
    "numero2 != numero1"
   ]
  },
  {
   "cell_type": "code",
   "execution_count": 10,
   "metadata": {},
   "outputs": [],
   "source": [
    "# Cread dos variables numéricas de tipo float (decimal) con dos decimales, llamdas de la siguiente forma:\n",
    "\n",
    "altura1 = 1.90\n",
    "altura2 = 1.73"
   ]
  },
  {
   "cell_type": "code",
   "execution_count": 11,
   "metadata": {},
   "outputs": [
    {
     "data": {
      "text/plain": [
       "3.63"
      ]
     },
     "execution_count": 11,
     "metadata": {},
     "output_type": "execute_result"
    }
   ],
   "source": [
    "# Utilizando los operadores matemáticos aprendidos en la lección: Cuál es la suma de las dos alturas\n",
    "\n",
    "altura1 + altura2\n"
   ]
  },
  {
   "cell_type": "code",
   "execution_count": 12,
   "metadata": {},
   "outputs": [
    {
     "data": {
      "text/plain": [
       "0.16999999999999993"
      ]
     },
     "execution_count": 12,
     "metadata": {},
     "output_type": "execute_result"
    }
   ],
   "source": [
    "# Cuál es la diferencia entre las alturas\n",
    "\n",
    "altura1 - altura2"
   ]
  },
  {
   "cell_type": "code",
   "execution_count": 13,
   "metadata": {},
   "outputs": [
    {
     "data": {
      "text/plain": [
       "1.0982658959537572"
      ]
     },
     "execution_count": 13,
     "metadata": {},
     "output_type": "execute_result"
    }
   ],
   "source": [
    "# Cuál es el resto de la división de las dos alturas\n",
    "\n",
    "altura1 / altura2"
   ]
  },
  {
   "cell_type": "code",
   "execution_count": 14,
   "metadata": {},
   "outputs": [
    {
     "data": {
      "text/plain": [
       "1.1"
      ]
     },
     "execution_count": 14,
     "metadata": {},
     "output_type": "execute_result"
    }
   ],
   "source": [
    "# # Cuál es resultado de la división de las dos alturas, redondead el resultado a un decimal.\n",
    "\n",
    "round(altura1/altura2,1)"
   ]
  },
  {
   "cell_type": "code",
   "execution_count": 17,
   "metadata": {},
   "outputs": [],
   "source": [
    "# Escribid un programa usando la función input() que le pregunte al usuario su nombre y apellidos. Una vez que tengamos el nombre del usuario:\n",
    "\n",
    "nombre = input('Dime tu nombre y primer apellido')"
   ]
  },
  {
   "cell_type": "code",
   "execution_count": 18,
   "metadata": {},
   "outputs": [
    {
     "data": {
      "text/plain": [
       "'REYES ALTOZANO'"
      ]
     },
     "execution_count": 18,
     "metadata": {},
     "output_type": "execute_result"
    }
   ],
   "source": [
    "# Printead su nombre y apellidos todo en mayúsculas\n",
    "\n",
    "nombre.upper()"
   ]
  },
  {
   "cell_type": "code",
   "execution_count": 19,
   "metadata": {},
   "outputs": [
    {
     "data": {
      "text/plain": [
       "'reyes altozano'"
      ]
     },
     "execution_count": 19,
     "metadata": {},
     "output_type": "execute_result"
    }
   ],
   "source": [
    "# Printead su nombre y apellidos todo en minúsculas\n",
    "\n",
    "nombre.lower()"
   ]
  },
  {
   "cell_type": "code",
   "execution_count": 21,
   "metadata": {},
   "outputs": [
    {
     "data": {
      "text/plain": [
       "'Reyes Altozano'"
      ]
     },
     "execution_count": 21,
     "metadata": {},
     "output_type": "execute_result"
    }
   ],
   "source": [
    "# Printead su nombre y apellidos con la primera letra del nombre y los apellidos en mayúscula y el resto en minúscula.\n",
    "\n",
    "nombre.title()"
   ]
  },
  {
   "cell_type": "code",
   "execution_count": 22,
   "metadata": {},
   "outputs": [
    {
     "data": {
      "text/plain": [
       "'Reyes altozano'"
      ]
     },
     "execution_count": 22,
     "metadata": {},
     "output_type": "execute_result"
    }
   ],
   "source": [
    "# Printead solo la primera letra del nombre en mayúscula.\n",
    "\n",
    "nombre.capitalize()"
   ]
  },
  {
   "cell_type": "code",
   "execution_count": 24,
   "metadata": {},
   "outputs": [],
   "source": [
    "# Escribid un programa usando la función input() que:\n",
    "# Le pregunte al usuario por una frase, almacenad este resultado en una variable.\n",
    "\n",
    "frase = input('Escribe una frase')"
   ]
  },
  {
   "cell_type": "code",
   "execution_count": 25,
   "metadata": {},
   "outputs": [],
   "source": [
    "# Le pregunte al usuario por una vocal, almacenad este resultado en una variable.\n",
    "\n",
    "vocal = input('Escribe una vocal')"
   ]
  },
  {
   "cell_type": "code",
   "execution_count": 29,
   "metadata": {},
   "outputs": [
    {
     "name": "stdout",
     "output_type": "stream",
     "text": [
      "El perro de San Roque no tiene rabo\n",
      "El perro de SAn Roque no tiene rAbo\n"
     ]
    }
   ],
   "source": [
    "# Printead la misma frase pero con la vocal introducida en mayúsulas.\n",
    "print(frase)\n",
    "frase_mayus = frase.replace(vocal, vocal.upper())\n",
    "print(frase_mayus)"
   ]
  },
  {
   "cell_type": "code",
   "execution_count": 33,
   "metadata": {},
   "outputs": [],
   "source": [
    "\"\"\"Escribid un programa usando la función input() que:\n",
    "Le pregunte al usuario por la lista de la compra, separando cada elemento por comas.\n",
    "Devolved la lista de compra donde veamos cada elemento en una línea.\n",
    "💡Pista\n",
    "Para indicar salto de línea usaremos \"\\n\".\n",
    "Deberéis usar el método join de los strings\n",
    "📌 Output deseado\n",
    "resultado_del_input = [\"peras\", \"manzanas\", \"naranjas\"]\n",
    "\n",
    "# output después del ejercicio\n",
    "\"peras\"\n",
    "\"manzanas\"\n",
    "\"naranjas\"\n",
    "\"\"\""
   ]
  },
  {
   "cell_type": "code",
   "execution_count": 61,
   "metadata": {},
   "outputs": [
    {
     "name": "stdout",
     "output_type": "stream",
     "text": [
      "peras\n",
      "manzanas\n",
      "naranjas\n"
     ]
    }
   ],
   "source": [
    "# Este ejercicio me sale si defino yo la variable. Si lo hago con la función input no me sale.\n",
    "\n",
    "lista_compra = [\"peras\", \"manzanas\", \"naranjas\"]\n",
    "string_lista_compra =  \"\\n\".join(lista_compra)\n",
    "print(string_lista_compra)"
   ]
  },
  {
   "cell_type": "code",
   "execution_count": 1,
   "metadata": {},
   "outputs": [],
   "source": [
    "lista_compra_con_input = input(\"Escribe la lista de la compra separando los elementos con comas\")"
   ]
  },
  {
   "cell_type": "code",
   "execution_count": 3,
   "metadata": {},
   "outputs": [
    {
     "name": "stdout",
     "output_type": "stream",
     "text": [
      "p\n",
      "e\n",
      "r\n",
      "a\n",
      "s\n",
      ",\n",
      " \n",
      "m\n",
      "a\n",
      "n\n",
      "z\n",
      "a\n",
      "n\n",
      "a\n",
      "s\n",
      ",\n",
      " \n",
      "n\n",
      "a\n",
      "r\n",
      "a\n",
      "n\n",
      "j\n",
      "a\n",
      "s\n"
     ]
    }
   ],
   "source": [
    "string_lista_compra_con_input = \"\\n\".join(lista_compra_con_input)\n",
    "print(string_lista_compra_con_input)"
   ]
  }
 ],
 "metadata": {
  "kernelspec": {
   "display_name": "base",
   "language": "python",
   "name": "python3"
  },
  "language_info": {
   "codemirror_mode": {
    "name": "ipython",
    "version": 3
   },
   "file_extension": ".py",
   "mimetype": "text/x-python",
   "name": "python",
   "nbconvert_exporter": "python",
   "pygments_lexer": "ipython3",
   "version": "3.9.7"
  }
 },
 "nbformat": 4,
 "nbformat_minor": 2
}
