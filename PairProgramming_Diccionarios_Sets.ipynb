{
 "cells": [
  {
   "cell_type": "markdown",
   "metadata": {},
   "source": [
    "** EJERCICIOS DICCIONARIOS **"
   ]
  },
  {
   "cell_type": "code",
   "execution_count": 1,
   "metadata": {},
   "outputs": [
    {
     "name": "stdout",
     "output_type": "stream",
     "text": [
      "{}\n"
     ]
    }
   ],
   "source": [
    "# 1. Crear un diccionario vacío\n",
    "# Descripción: Crea un diccionario vacío sin ningún par clave-valor.\n",
    "\n",
    "diccionario = {}\n",
    "print(diccionario)"
   ]
  },
  {
   "cell_type": "code",
   "execution_count": 2,
   "metadata": {},
   "outputs": [],
   "source": [
    "# 2. Crear un diccionario con elementos\n",
    "# Descripción: Crea un diccionario con pares clave-valor predefinidos. \n",
    "# Definir el diccionario con las claves y valores que querais. NOTA El diccionario debe tener al menos 5 pares de clave:valor.\n",
    "\n",
    "frutas = {'plátano' : 'banana', 'fresa' : 'strawberry', 'naranja' : 'orange', 'uva': 'grape', 'melón' : 'melon'}"
   ]
  },
  {
   "cell_type": "code",
   "execution_count": 4,
   "metadata": {},
   "outputs": [
    {
     "name": "stdout",
     "output_type": "stream",
     "text": [
      "banana\n"
     ]
    }
   ],
   "source": [
    "# 3. Acceder al valor de una clave en un diccionario\n",
    "# Descripción: Usando el diccionario creado en el paso anterior, obtén el valor correspondiente a una clave específica \n",
    "# que indique el usuario (debereis usar la función input() para preguntar al usuario).\n",
    "\n",
    "fruta_elegida = input('Elige la fruta que quieres traducir al inglés')\n",
    "valor = frutas.get(fruta_elegida)\n",
    "print(valor)"
   ]
  },
  {
   "cell_type": "code",
   "execution_count": 5,
   "metadata": {},
   "outputs": [
    {
     "name": "stdout",
     "output_type": "stream",
     "text": [
      "{'plátano': 'banana', 'fresa': 'strawberry', 'naranja': 'orange', 'uva': 'grape', 'melón': 'melon', 'manzana': 'appple'}\n"
     ]
    }
   ],
   "source": [
    "# 4. Agregar un nuevo par clave-valor a un diccionario\n",
    "# Descripción: Usando el diccionario creado en el ejercicio 2, agrega un nuevo par clave-valor.\n",
    "\n",
    "frutas.update({'manzana' : 'appple'})\n",
    "print(frutas)"
   ]
  },
  {
   "cell_type": "code",
   "execution_count": 6,
   "metadata": {},
   "outputs": [
    {
     "name": "stdout",
     "output_type": "stream",
     "text": [
      "{'nombre': 'Ana', 'edad': 40, 'ciudad': 'Madrid', 'hijos': 1}\n"
     ]
    }
   ],
   "source": [
    "# 5. Actualizar el valor de una clave en un diccionario\n",
    "# Descripción: Usando el diccionario creado en el ejercicio 2, actualiza el valor correspondiente a una clave existente. Ejemplo:\n",
    "# dado el siguiente diccionario\n",
    "# {'nombre': 'Ana', 'edad': 25, 'ciudad': 'Madrid', 'hijos': 1}\n",
    "# el ouptut esperado es: (ha cambiado el valor de la clave edad)\n",
    "# {'nombre': 'Ana', 'edad': 40, 'ciudad': 'Madrid', 'hijos': 1}\n",
    "\n",
    "diccionario_ejemplo = {'nombre': 'Ana', 'edad': 25, 'ciudad': 'Madrid', 'hijos': 1}\n",
    "diccionario_ejemplo['edad'] = 40\n",
    "print(diccionario_ejemplo)\n"
   ]
  },
  {
   "cell_type": "code",
   "execution_count": 7,
   "metadata": {},
   "outputs": [
    {
     "name": "stdout",
     "output_type": "stream",
     "text": [
      "{'plátano': 'banana', 'naranja': 'orange', 'uva': 'grape', 'melón': 'melon', 'manzana': 'appple'}\n"
     ]
    }
   ],
   "source": [
    "# 6 . Eliminar un par clave-valor de un diccionario\n",
    "# Descripción: Usando el diccionario creado en el ejercicio 2, elimina un par clave-valor específico que indique el usuario \n",
    "# (debereis usar la función input() para preguntar al usuario).\n",
    "\n",
    "clave_eliminar = input('Di qué fruta quieres eliminar')\n",
    "valor_eliminado = frutas.pop(clave_eliminar)\n",
    "print(frutas)\n"
   ]
  },
  {
   "cell_type": "code",
   "execution_count": 13,
   "metadata": {},
   "outputs": [
    {
     "name": "stdout",
     "output_type": "stream",
     "text": [
      "{'plátano': 'banana', 'naranja': 'orange', 'uva': 'grape', 'melón': 'melon', 'manzana': 'appple'}\n",
      "True\n"
     ]
    }
   ],
   "source": [
    "# 7. Verificar si una clave está presente en un diccionario\n",
    "# Descripción: Usando el diccionario creado en el ejercicio 2, verifica si una clave específica está presente en él. \n",
    "# La clave a buscar debe ser pasada por el usuario, debereis usar un input().\n",
    "\n",
    "print(frutas)\n",
    "clave_verificar = input('Di qué fruta deseas verificar')\n",
    "valor_verificado = clave_verificar in frutas\n",
    "print(valor_verificado)\n"
   ]
  },
  {
   "cell_type": "code",
   "execution_count": 15,
   "metadata": {},
   "outputs": [
    {
     "data": {
      "text/plain": [
       "dict_keys(['plátano', 'naranja', 'uva', 'melón', 'manzana'])"
      ]
     },
     "execution_count": 15,
     "metadata": {},
     "output_type": "execute_result"
    }
   ],
   "source": [
    "# 8. Obtener una lista de todas las claves de un diccionario\n",
    "# Descripción: Usando el diccionario creado en el ejercicio 2, obtén una lista con todas las claves que contiene.\n",
    "\n",
    "frutas.keys()"
   ]
  },
  {
   "cell_type": "code",
   "execution_count": 16,
   "metadata": {},
   "outputs": [
    {
     "data": {
      "text/plain": [
       "dict_values(['banana', 'orange', 'grape', 'melon', 'appple'])"
      ]
     },
     "execution_count": 16,
     "metadata": {},
     "output_type": "execute_result"
    }
   ],
   "source": [
    "# 9.Obtener una lista de todos los valores de un diccionario\n",
    "# Descripción: Usando el diccionario creado en el ejercicio 2, obtén una lista con todos los valores que contiene.\n",
    "\n",
    "frutas.values()"
   ]
  },
  {
   "cell_type": "code",
   "execution_count": 27,
   "metadata": {},
   "outputs": [
    {
     "data": {
      "text/plain": [
       "'no existe'"
      ]
     },
     "execution_count": 27,
     "metadata": {},
     "output_type": "execute_result"
    }
   ],
   "source": [
    "# 10. Utilizar el método setdefault() para establecer un valor predeterminado si la clave no existe\n",
    "# Descripción: Usando el diccionario creado en el ejercicio 2, obten el valor correspondiente a una clave. \n",
    "# Si la clave no existe, establece un valor predeterminado y devuelve dicho valor.\n",
    "\n",
    "frutas.setdefault('pera', 'no existe')\n",
    "frutas.get('pera')\n"
   ]
  },
  {
   "cell_type": "code",
   "execution_count": 28,
   "metadata": {},
   "outputs": [
    {
     "name": "stdout",
     "output_type": "stream",
     "text": [
      "{'plátano': 'banana', 'naranja': 'orange', 'uva': 'grape', 'melón': 'melon', 'manzana': 'appple', 'pera': 'no existe'}\n"
     ]
    }
   ],
   "source": [
    "# 11. Manipulación de un diccionario utilizando pop() y popitem()\n",
    "# Descripción: Usando el diccionario creado en el ejercicio 2, realiza operaciones de eliminación utilizando pop() y popitem(), y observa cómo afectan al diccionario.\n",
    "\n",
    "print(frutas)\n",
    "\n"
   ]
  },
  {
   "cell_type": "markdown",
   "metadata": {},
   "source": [
    "Vamos a utilizar primero el método pop()"
   ]
  },
  {
   "cell_type": "code",
   "execution_count": 29,
   "metadata": {},
   "outputs": [
    {
     "name": "stdout",
     "output_type": "stream",
     "text": [
      "{'plátano': 'banana', 'naranja': 'orange', 'uva': 'grape', 'manzana': 'appple', 'pera': 'no existe'}\n"
     ]
    }
   ],
   "source": [
    "frutas.pop('melón')\n",
    "print(frutas)"
   ]
  },
  {
   "cell_type": "markdown",
   "metadata": {},
   "source": [
    "A continuación, utilizaremos el método popitem()"
   ]
  },
  {
   "cell_type": "code",
   "execution_count": 30,
   "metadata": {},
   "outputs": [
    {
     "name": "stdout",
     "output_type": "stream",
     "text": [
      "{'plátano': 'banana', 'naranja': 'orange', 'uva': 'grape', 'manzana': 'appple'}\n"
     ]
    }
   ],
   "source": [
    "frutas.popitem()\n",
    "print(frutas)"
   ]
  },
  {
   "cell_type": "markdown",
   "metadata": {},
   "source": [
    "** EJERCICIOS SETS **\n"
   ]
  },
  {
   "cell_type": "code",
   "execution_count": 32,
   "metadata": {},
   "outputs": [
    {
     "name": "stdout",
     "output_type": "stream",
     "text": [
      "{}\n"
     ]
    }
   ],
   "source": [
    "# 1.Crear un conjunto vacío\n",
    "# Descripción: Crea un conjunto vacío sin ningún elemento.\n",
    "\n",
    "set1 = {}\n",
    "print(set1)"
   ]
  },
  {
   "cell_type": "code",
   "execution_count": 33,
   "metadata": {},
   "outputs": [
    {
     "name": "stdout",
     "output_type": "stream",
     "text": [
      "{'urdu', 'inglés', 'bangla', 'hindi'}\n"
     ]
    }
   ],
   "source": [
    "# 2. Crear un conjunto con elementos\n",
    "# Descripción: Crea un conjunto con elementos predefinidos.\n",
    "\n",
    "set2 = {'bangla', 'hindi', 'urdu', 'inglés'}\n",
    "print(set2)"
   ]
  },
  {
   "cell_type": "code",
   "execution_count": 14,
   "metadata": {},
   "outputs": [],
   "source": [
    "# 3. Agregar elementos a un conjunto\n",
    "# Descripción: Usando el set creado en el ejercicio 2, agrega nuevos elementos. Debereis agregar por separado:\n",
    "# Un elemento solo\n",
    "# Un par de elementos a la vez."
   ]
  },
  {
   "cell_type": "markdown",
   "metadata": {},
   "source": [
    "Empezamos agregando solo un elemento con el método .add()"
   ]
  },
  {
   "cell_type": "code",
   "execution_count": 34,
   "metadata": {},
   "outputs": [
    {
     "name": "stdout",
     "output_type": "stream",
     "text": [
      "{'punjabi', 'inglés', 'urdu', 'hindi', 'bangla'}\n"
     ]
    }
   ],
   "source": [
    "set2.add('punjabi')\n",
    "print(set2)"
   ]
  },
  {
   "cell_type": "markdown",
   "metadata": {},
   "source": [
    "A continuación, agregamos un par de elementos con el método .update()"
   ]
  },
  {
   "cell_type": "code",
   "execution_count": 35,
   "metadata": {},
   "outputs": [
    {
     "name": "stdout",
     "output_type": "stream",
     "text": [
      "{'punjabi', 'inglés', 'marathi', 'urdu', 'hindi', 'tamil', 'bangla'}\n"
     ]
    }
   ],
   "source": [
    "actualizacion = ['marathi', 'tamil']\n",
    "set2.update(actualizacion)\n",
    "print(set2)"
   ]
  },
  {
   "cell_type": "code",
   "execution_count": 16,
   "metadata": {},
   "outputs": [],
   "source": [
    "# 4. Eliminar un elemento de un conjunto\n",
    "# Descripción: Usando el set creado en el ejercicio 2, elimina un elemento especificado por el usuario."
   ]
  },
  {
   "cell_type": "markdown",
   "metadata": {},
   "source": [
    "Vamos a utilizar el método .remove()"
   ]
  },
  {
   "cell_type": "code",
   "execution_count": 36,
   "metadata": {},
   "outputs": [
    {
     "name": "stdout",
     "output_type": "stream",
     "text": [
      "{'punjabi', 'inglés', 'marathi', 'hindi', 'tamil', 'bangla'}\n"
     ]
    }
   ],
   "source": [
    "elemento_eliminar = input('Di qué idioma deseas eliminar')\n",
    "elemento_eliminado = set2.remove(elemento_eliminar)\n",
    "print(set2)"
   ]
  },
  {
   "cell_type": "code",
   "execution_count": null,
   "metadata": {},
   "outputs": [],
   "source": [
    "# 5. Verificar la pertenencia de un elemento en un conjunto\n",
    "# Descripción: Usando el set creado en el ejercicio 2, verifica si un elemento específico está presente en él."
   ]
  },
  {
   "cell_type": "markdown",
   "metadata": {},
   "source": [
    "Vamos a utilizar la propiedad 'in'"
   ]
  },
  {
   "cell_type": "code",
   "execution_count": 37,
   "metadata": {},
   "outputs": [
    {
     "data": {
      "text/plain": [
       "False"
      ]
     },
     "execution_count": 37,
     "metadata": {},
     "output_type": "execute_result"
    }
   ],
   "source": [
    "'urdu' in set2"
   ]
  },
  {
   "cell_type": "code",
   "execution_count": null,
   "metadata": {},
   "outputs": [],
   "source": [
    "# 6. Realizar una unión de conjuntos\n",
    "# Descripción: Dados dos conjuntos, realiza una unión de ellos."
   ]
  },
  {
   "cell_type": "markdown",
   "metadata": {},
   "source": [
    "Creamos un nuevo set para hacer operaciones con el primero"
   ]
  },
  {
   "cell_type": "code",
   "execution_count": 38,
   "metadata": {},
   "outputs": [],
   "source": [
    "set3 = {'castellano', 'vasco', 'gallego', 'catalán', 'inglés'}"
   ]
  },
  {
   "cell_type": "markdown",
   "metadata": {},
   "source": [
    "Utilizamos la operación .union()"
   ]
  },
  {
   "cell_type": "code",
   "execution_count": 39,
   "metadata": {},
   "outputs": [
    {
     "data": {
      "text/plain": [
       "{'bangla',\n",
       " 'castellano',\n",
       " 'catalán',\n",
       " 'gallego',\n",
       " 'hindi',\n",
       " 'inglés',\n",
       " 'marathi',\n",
       " 'punjabi',\n",
       " 'tamil',\n",
       " 'vasco'}"
      ]
     },
     "execution_count": 39,
     "metadata": {},
     "output_type": "execute_result"
    }
   ],
   "source": [
    "set2.union(set3)\n"
   ]
  },
  {
   "cell_type": "code",
   "execution_count": 41,
   "metadata": {},
   "outputs": [
    {
     "data": {
      "text/plain": [
       "{'inglés'}"
      ]
     },
     "execution_count": 41,
     "metadata": {},
     "output_type": "execute_result"
    }
   ],
   "source": [
    "# 7. Realizar una intersección de conjuntos\n",
    "# Descripción: Usando dos conjuntos de datos definidos en el ejercicio anterior, realiza una intersección de ellos.\n",
    "\n",
    "set2.intersection(set3)"
   ]
  },
  {
   "cell_type": "code",
   "execution_count": 42,
   "metadata": {},
   "outputs": [
    {
     "data": {
      "text/plain": [
       "{'bangla', 'hindi', 'marathi', 'punjabi', 'tamil'}"
      ]
     },
     "execution_count": 42,
     "metadata": {},
     "output_type": "execute_result"
    }
   ],
   "source": [
    "# 8. Realizar una diferencia de conjuntos\n",
    "# Descripción: Usando dos conjuntos de datos definidos en el ejercicio anterior, realiza una diferencia entre ellos.\n",
    "\n",
    "set2.difference(set3)"
   ]
  },
  {
   "cell_type": "code",
   "execution_count": 44,
   "metadata": {},
   "outputs": [
    {
     "data": {
      "text/plain": [
       "False"
      ]
     },
     "execution_count": 44,
     "metadata": {},
     "output_type": "execute_result"
    }
   ],
   "source": [
    "# 9.Verificar si un conjunto es subconjunto de otro\n",
    "# Descripción: Dados dos conjuntos, verifica si uno es subconjunto del otro.\n",
    "\n",
    "set2.issubset(set3)"
   ]
  }
 ],
 "metadata": {
  "kernelspec": {
   "display_name": "base",
   "language": "python",
   "name": "python3"
  },
  "language_info": {
   "codemirror_mode": {
    "name": "ipython",
    "version": 3
   },
   "file_extension": ".py",
   "mimetype": "text/x-python",
   "name": "python",
   "nbconvert_exporter": "python",
   "pygments_lexer": "ipython3",
   "version": "3.9.7"
  }
 },
 "nbformat": 4,
 "nbformat_minor": 2
}
